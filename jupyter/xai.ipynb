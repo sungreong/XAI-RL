{
 "cells": [
  {
   "cell_type": "code",
   "execution_count": 1,
   "metadata": {},
   "outputs": [],
   "source": [
    "%load_ext autoreload\n",
    "%autoreload 2"
   ]
  },
  {
   "cell_type": "code",
   "execution_count": 2,
   "metadata": {},
   "outputs": [],
   "source": [
    "from rlxai import ImageXAI , A2C"
   ]
  },
  {
   "cell_type": "code",
   "execution_count": 3,
   "metadata": {},
   "outputs": [
    {
     "name": "stderr",
     "output_type": "stream",
     "text": [
      "/opt/conda/envs/xai/lib/python3.8/site-packages/ale_py/roms/__init__.py:94: DeprecationWarning: Automatic importing of atari-py roms won't be supported in future releases of ale-py. Please migrate over to using `ale-import-roms` OR an ALE-supported ROM package. To make this warning disappear you can run `ale-import-roms --import-from-pkg atari_py.atari_roms`.For more information see: https://github.com/mgbellemare/Arcade-Learning-Environment#rom-management\n",
      "  _RESOLVED_ROMS = _resolve_roms()\n",
      "A.L.E: Arcade Learning Environment (version +978d2ce)\n",
      "[Powered by Stella]\n"
     ]
    }
   ],
   "source": [
    "\n",
    "import gym\n",
    "import numpy as np\n",
    "import matplotlib.pyplot as plt\n",
    "from torch import nn \n",
    "from torchvision import models\n",
    "import torch \n",
    "env = gym.make(\"Breakout-v0\")"
   ]
  },
  {
   "cell_type": "code",
   "execution_count": 4,
   "metadata": {},
   "outputs": [],
   "source": [
    "\n",
    "actor = models.resnet18(pretrained=True)\n",
    "actor.conv1 =nn.Conv2d(1,64, kernel_size=(7, 7), stride=(2, 2), padding=(3, 3), bias=False)\n",
    "actor.fc = nn.Linear(512, env.action_space.n)\n",
    "\n",
    "critic = models.resnet18(pretrained=True)\n",
    "critic.conv1 =nn.Conv2d(1,64, kernel_size=(7, 7), stride=(2, 2), padding=(3, 3), bias=False)\n",
    "critic.fc = nn.Linear(512, 1)\n",
    "\n",
    "A2C_MODEL = A2C(actor=actor,critic=critic,lr=1e-3)\n",
    "A2C_MODEL.load_model(\"./\")\n",
    "model=A2C_MODEL.actor"
   ]
  },
  {
   "cell_type": "code",
   "execution_count": 5,
   "metadata": {},
   "outputs": [
    {
     "data": {
      "text/plain": [
       "<matplotlib.image.AxesImage at 0x7f79c18c0730>"
      ]
     },
     "execution_count": 5,
     "metadata": {},
     "output_type": "execute_result"
    },
    {
     "data": {
      "image/png": "[encoded data removed]",
      "text/plain": [
       "<Figure size 432x288 with 1 Axes>"
      ]
     },
     "metadata": {
      "needs_background": "light"
     },
     "output_type": "display_data"
    }
   ],
   "source": [
    "import cv2 \n",
    "\n",
    "\n",
    "def img_crop(img_arr) :\n",
    "    return img_arr[55:-15,15:-15,:]\n",
    "def rgb2gray(rgb):\n",
    "    image_data = cv2.cvtColor(cv2.resize(rgb, (84, 84)), cv2.COLOR_BGR2GRAY)\n",
    "    image_data[image_data > 0] = 255\n",
    "    image_data = np.reshape(image_data,(84, 84, 1))\n",
    "    return image_data\n",
    "def totensor(img_arr) :\n",
    "    return torch.FloatTensor(img_arr.transpose((2, 0, 1))).unsqueeze(dim=0)\n",
    "\n",
    "img_arr = env.render(mode=\"rgb_array\")\n",
    "plt.imshow(rgb2gray(img_crop(img_arr)))"
   ]
  },
  {
   "cell_type": "code",
   "execution_count": 6,
   "metadata": {},
   "outputs": [],
   "source": [
    "img_arr = env.render(mode=\"rgb_array\")\n",
    "iteration = 0 \n",
    "env.reset()\n",
    "while True :\n",
    "    img_arr,r,done,info = env.step(env.action_space.sample())\n",
    "    if iteration == 100 :\n",
    "        break \n",
    "    else :\n",
    "        iteration += 1 "
   ]
  },
  {
   "cell_type": "code",
   "execution_count": 7,
   "metadata": {},
   "outputs": [
    {
     "data": {
      "image/png": "[encoded data removed]",
      "text/plain": [
       "<Figure size 432x288 with 1 Axes>"
      ]
     },
     "metadata": {
      "needs_background": "light"
     },
     "output_type": "display_data"
    }
   ],
   "source": [
    "plt.imshow(img_crop(img_arr))\n",
    "plt.show()"
   ]
  },
  {
   "cell_type": "code",
   "execution_count": 8,
   "metadata": {},
   "outputs": [
    {
     "data": {
      "image/png": "[encoded data removed]",
      "text/plain": [
       "<Figure size 432x288 with 1 Axes>"
      ]
     },
     "metadata": {
      "needs_background": "light"
     },
     "output_type": "display_data"
    }
   ],
   "source": [
    "plt.imshow( rgb2gray(img_crop(img_arr)))\n",
    "plt.show()"
   ]
  },
  {
   "cell_type": "code",
   "execution_count": 16,
   "metadata": {},
   "outputs": [],
   "source": [
    "\n",
    "def data_transform(x) :\n",
    "    # x = img_crop(x)\n",
    "    # x = rgb2gray(x)\n",
    "    x = totensor(x)\n",
    "    return x\n",
    "\n",
    "target2idx = {i:idx  for idx , i in enumerate(env.unwrapped.get_action_meanings())}\n",
    "\n",
    "xai = ImageXAI(model ,  target2idx , data_transform)"
   ]
  },
  {
   "cell_type": "code",
   "execution_count": 17,
   "metadata": {},
   "outputs": [
    {
     "data": {
      "text/plain": [
       "(84, 84, 1)"
      ]
     },
     "execution_count": 17,
     "metadata": {},
     "output_type": "execute_result"
    }
   ],
   "source": [
    "rgb2gray(img_crop(img_arr)).shape"
   ]
  },
  {
   "cell_type": "code",
   "execution_count": 22,
   "metadata": {},
   "outputs": [
    {
     "name": "stdout",
     "output_type": "stream",
     "text": [
      "run...\n",
      "classify...\n",
      "run for xai...\n",
      "Approximation delta:  tensor([0.0288], dtype=torch.float64)\n"
     ]
    }
   ],
   "source": [
    "xai(rgb2gray(img_crop(img_arr)) , \"0\")"
   ]
  },
  {
   "cell_type": "code",
   "execution_count": 23,
   "metadata": {},
   "outputs": [],
   "source": [
    "folder_dir = \"./result\"\n",
    "from pathlib import Path\n",
    "ResultDir = Path(folder_dir)\n",
    "ResultDir.mkdir(exist_ok=True)"
   ]
  },
  {
   "cell_type": "code",
   "execution_count": 24,
   "metadata": {},
   "outputs": [
    {
     "name": "stdout",
     "output_type": "stream",
     "text": [
      "{0: '0', 1: '1', 2: '2', 3: '3'}\n",
      "probability :  tensor([[1.6103e-05, 4.4897e-04, 9.9946e-01, 7.9566e-05]],\n",
      "       grad_fn=<SoftmaxBackward>)\n"
     ]
    }
   ],
   "source": [
    "xai.showResult(save_path=ResultDir.joinpath(\"./Result.png\"))"
   ]
  },
  {
   "cell_type": "code",
   "execution_count": 25,
   "metadata": {},
   "outputs": [
    {
     "name": "stdout",
     "output_type": "stream",
     "text": [
      "Predicted: 2  Probability: tensor([[1.6103e-05, 4.4897e-04, 9.9946e-01, 7.9566e-05]],\n",
      "       grad_fn=<SoftmaxBackward>)\n",
      "step1\n",
      "step2\n",
      "step3\n",
      "step4\n"
     ]
    }
   ],
   "source": [
    "xai.show_integrated_gradients(save_folder=ResultDir)\n",
    "xai.plot_Occlusion(strides=(1, 8, 8), sliding_window_shapes=(1, 15, 15),save_path=ResultDir.joinpath(\"./Occlusion.png\"))\n",
    "xai.plot_InputXGradient(target=1, save_path=ResultDir.joinpath(\"./InputXGradeint.png\"))\n",
    "xai.plot_InputXGradient_all_target(save_path=ResultDir.joinpath(\"./InputXGradeint_ALL.png\"))\n",
    "xai.plot_GuidedBackprop_all_target(n_row=2, save_path=ResultDir.joinpath(\"./GuideBackprop.png\"))\n",
    "xai.plot_IntegratedGradients_Black(save_path=ResultDir.joinpath(\"./IntegratedGradients_Black.png\"))"
   ]
  },
  {
   "cell_type": "code",
   "execution_count": 26,
   "metadata": {},
   "outputs": [
    {
     "data": {
      "image/png": "[encoded data removed]",
      "text/plain": [
       "<Figure size 576x432 with 4 Axes>"
      ]
     },
     "metadata": {
      "needs_background": "light"
     },
     "output_type": "display_data"
    },
    {
     "name": "stderr",
     "output_type": "stream",
     "text": [
      "Lime attribution: 100%|██████████| 3/3 [00:08<00:00,  2.95s/it]\n"
     ]
    }
   ],
   "source": [
    "xai.plot_IntegratedGradients_NoiseTunnel(save_path=ResultDir.joinpath(\"./IntegratedGradients_NoiseTunnel.png\"))\n",
    "xai.plot_GradientShap(save_path=ResultDir.joinpath(\"./GradientShap.png\"))\n",
    "xai.plot_LRLIME(save_path=ResultDir.joinpath(\"./LRLIME.png\"))"
   ]
  },
  {
   "cell_type": "code",
   "execution_count": null,
   "metadata": {},
   "outputs": [],
   "source": []
  }
 ],
 "metadata": {
  "interpreter": {
   "hash": "31f2aee4e71d21fbe5cf8b01ff0e069b9275f58929596ceb00d14d90e3e16cd6"
  },
  "kernelspec": {
   "display_name": "Python 3.6.9 64-bit",
   "language": "python",
   "name": "python3"
  },
  "language_info": {
   "codemirror_mode": {
    "name": "ipython",
    "version": 3
   },
   "file_extension": ".py",
   "mimetype": "text/x-python",
   "name": "python",
   "nbconvert_exporter": "python",
   "pygments_lexer": "ipython3",
   "version": "3.8.12"
  },
  "orig_nbformat": 4
 },
 "nbformat": 4,
 "nbformat_minor": 2
}
