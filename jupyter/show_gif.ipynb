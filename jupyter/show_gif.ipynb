{
 "cells": [
  {
   "cell_type": "code",
   "execution_count": 1,
   "metadata": {},
   "outputs": [
    {
     "name": "stderr",
     "output_type": "stream",
     "text": [
      "/opt/conda/envs/xai/lib/python3.8/site-packages/ale_py/roms/__init__.py:94: DeprecationWarning: Automatic importing of atari-py roms won't be supported in future releases of ale-py. Please migrate over to using `ale-import-roms` OR an ALE-supported ROM package. To make this warning disappear you can run `ale-import-roms --import-from-pkg atari_py.atari_roms`.For more information see: https://github.com/mgbellemare/Arcade-Learning-Environment#rom-management\n",
      "  _RESOLVED_ROMS = _resolve_roms()\n"
     ]
    }
   ],
   "source": [
    "import numpy as np\n",
    "import matplotlib.pyplot as plt\n",
    "from torch import nn\n",
    "from torchvision import models\n",
    "import torch\n",
    "import gym, sys\n",
    "import cv2\n",
    "from tqdm import tqdm\n",
    "from IPython.display import clear_output\n",
    "from array2gif import write_gif\n",
    "from rlxai.dp.img import data_transform\n"
   ]
  },
  {
   "cell_type": "code",
   "execution_count": 2,
   "metadata": {},
   "outputs": [
    {
     "name": "stderr",
     "output_type": "stream",
     "text": [
      "A.L.E: Arcade Learning Environment (version +978d2ce)\n",
      "[Powered by Stella]\n"
     ]
    },
    {
     "name": "stdout",
     "output_type": "stream",
     "text": [
      "load\n",
      "...Load model from ../model/PER/model.pt...\n"
     ]
    }
   ],
   "source": [
    "env = gym.make(\"Breakout-v4\") # Deterministic\n",
    "random_seed = 215161  # set random seed if required (0 = no random seed)\n",
    "action_dim = env.action_space.n\n",
    "device = \"cuda:1\"\n",
    "from rlxai.agent.agent_selection import get_agent\n",
    "model_name = \"PER\"\n",
    "save_path = \"./../model\"\n",
    "model,_,_ = get_agent(model_name=model_name,save_path=save_path,device=device,action_dim=action_dim)"
   ]
  },
  {
   "cell_type": "code",
   "execution_count": 3,
   "metadata": {},
   "outputs": [
    {
     "name": "stdout",
     "output_type": "stream",
     "text": [
      "--------------------------------------------------------------------------------------------\n",
      "setting random seed to  215161\n"
     ]
    }
   ],
   "source": [
    "if random_seed:\n",
    "    print(\"--------------------------------------------------------------------------------------------\")\n",
    "    print(\"setting random seed to \", random_seed)\n",
    "    torch.manual_seed(random_seed)\n",
    "    env.seed(random_seed)\n",
    "    np.random.seed(random_seed)"
   ]
  },
  {
   "cell_type": "code",
   "execution_count": 4,
   "metadata": {},
   "outputs": [],
   "source": [
    "ACTION_MEANING = env.unwrapped.get_action_meanings()"
   ]
  },
  {
   "cell_type": "code",
   "execution_count": 5,
   "metadata": {},
   "outputs": [
    {
     "name": "stdout",
     "output_type": "stream",
     "text": [
      "FIRE, RIGHT, FIRE, FIRE, RIGHT, FIRE, RIGHT, FIRE, LEFT, RIGHT, RIGHT, FIRE, FIRE, LEFT, FIRE, FIRE, FIRE, FIRE, FIRE, FIRE, FIRE, FIRE, LEFT, FIRE, FIRE, FIRE, LEFT, FIRE, FIRE, FIRE, FIRE, FIRE, FIRE, FIRE, FIRE, LEFT, LEFT, FIRE, LEFT, NOOP, NOOP, RIGHT, RIGHT, FIRE, FIRE, LEFT, FIRE, FIRE, LEFT, LEFT, FIRE, RIGHT, FIRE, FIRE, FIRE, RIGHT, RIGHT, FIRE, FIRE, LEFT, LEFT, LEFT, NOOP, FIRE, RIGHT, RIGHT, RIGHT, FIRE, RIGHT, LEFT, LEFT, LEFT, RIGHT, LEFT, RIGHT, LEFT, LEFT, LEFT, NOOP, FIRE, RIGHT, RIGHT, LEFT, LEFT, LEFT, LEFT, LEFT, LEFT, LEFT, LEFT, RIGHT, FIRE, FIRE, RIGHT, FIRE, RIGHT, FIRE, RIGHT, LEFT, FIRE, RIGHT, FIRE, RIGHT, RIGHT, FIRE, RIGHT, FIRE, FIRE, FIRE, RIGHT, RIGHT, FIRE, LEFT, LEFT, FIRE, FIRE, FIRE, FIRE, FIRE, FIRE, FIRE, FIRE, FIRE, FIRE, LEFT, FIRE, LEFT, LEFT, LEFT, FIRE, FIRE, RIGHT, FIRE, RIGHT, NOOP, LEFT, RIGHT, LEFT, NOOP, RIGHT, NOOP, FIRE, LEFT, LEFT, FIRE, FIRE, RIGHT, RIGHT, LEFT, FIRE, RIGHT, LEFT, LEFT, FIRE, NOOP, RIGHT, LEFT, LEFT, RIGHT, LEFT, RIGHT, FIRE, LEFT, RIGHT, LEFT, FIRE\n",
      "Reward : 0.0\n",
      "Reward : 0.0 is very small so we don't make gif file\n"
     ]
    }
   ],
   "source": [
    "img_collection = []\n",
    "state = env.reset()\n",
    "state, r, done, info = env.step(1)\n",
    "state_list = [data_transform(state) for _ in range(3)]\n",
    "img_collection.append(state.transpose((2, 0, 1)))\n",
    "iter = 0\n",
    "ACTION_LIST = []\n",
    "R = 0\n",
    "last_lives = info['lives']\n",
    "while True:\n",
    "    state = np.concatenate(state_list ,axis=1) / 255.0\n",
    "    action_dict = model.select_action(state,False)\n",
    "    if info[\"lives\"] < last_lives :\n",
    "        action = 1\n",
    "        last_lives = info[\"lives\"]\n",
    "    else :\n",
    "        action = int(action_dict[\"action\"])\n",
    "    s, r, done, info = env.step(action)\n",
    "    R += r\n",
    "    ACTION_LIST.append(ACTION_MEANING[action])\n",
    "    #print(ACTION_MEANING[int(action_dict[\"action\"])] , info )\n",
    "    #############################################\n",
    "    state_list.pop(0)\n",
    "    cur_lives = info[\"lives\"]\n",
    "    if last_lives > cur_lives :\n",
    "        s = np.zeros_like(s)\n",
    "    state_list.append(data_transform(s))\n",
    "    #############################################\n",
    "    img_collection.append(s.transpose((2, 0, 1)))\n",
    "    iter += 1\n",
    "    if done:\n",
    "        break\n",
    "print(\", \".join(ACTION_LIST))\n",
    "print(f\"Reward : {R}\")\n",
    "if R < 10 :\n",
    "    print(f\"Reward : {R} is very small so we don't make gif file\")\n",
    "else :\n",
    "    file_path = \"./breakout.gif\"\n",
    "    write_gif(img_collection, file_path)\n",
    "    print(f\"Reward : {R} save gif...\")"
   ]
  },
  {
   "cell_type": "code",
   "execution_count": null,
   "metadata": {},
   "outputs": [],
   "source": []
  },
  {
   "cell_type": "code",
   "execution_count": null,
   "metadata": {},
   "outputs": [],
   "source": []
  }
 ],
 "metadata": {
  "interpreter": {
   "hash": "65fec92284e7b352044686d0cc3992d7552da5e0050f1bd8f75b8a8eff2d1295"
  },
  "kernelspec": {
   "display_name": "Python 3.8.12 64-bit ('xai': conda)",
   "language": "python",
   "name": "python3"
  },
  "language_info": {
   "codemirror_mode": {
    "name": "ipython",
    "version": 3
   },
   "file_extension": ".py",
   "mimetype": "text/x-python",
   "name": "python",
   "nbconvert_exporter": "python",
   "pygments_lexer": "ipython3",
   "version": "3.8.12"
  },
  "orig_nbformat": 4
 },
 "nbformat": 4,
 "nbformat_minor": 2
}
