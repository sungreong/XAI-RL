{
 "cells": [
  {
   "cell_type": "code",
   "execution_count": 1,
   "metadata": {},
   "outputs": [],
   "source": [
    "%load_ext autoreload\n",
    "%autoreload 2"
   ]
  },
  {
   "cell_type": "code",
   "execution_count": 2,
   "metadata": {},
   "outputs": [
    {
     "name": "stderr",
     "output_type": "stream",
     "text": [
      "/opt/conda/envs/xai/lib/python3.8/site-packages/ale_py/roms/__init__.py:94: DeprecationWarning: Automatic importing of atari-py roms won't be supported in future releases of ale-py. Please migrate over to using `ale-import-roms` OR an ALE-supported ROM package. To make this warning disappear you can run `ale-import-roms --import-from-pkg atari_py.atari_roms`.For more information see: https://github.com/mgbellemare/Arcade-Learning-Environment#rom-management\n",
      "  _RESOLVED_ROMS = _resolve_roms()\n",
      "A.L.E: Arcade Learning Environment (version +978d2ce)\n",
      "[Powered by Stella]\n"
     ]
    }
   ],
   "source": [
    "\n",
    "import gym\n",
    "\n",
    "env = gym.make(\"Breakout-v0\")\n",
    "_ = env.reset()\n"
   ]
  },
  {
   "cell_type": "code",
   "execution_count": 3,
   "metadata": {},
   "outputs": [],
   "source": [
    "import numpy as np\n",
    "import matplotlib.pyplot as plt\n",
    "from torch import nn \n",
    "from torchvision import models\n",
    "import torch "
   ]
  },
  {
   "cell_type": "code",
   "execution_count": 4,
   "metadata": {},
   "outputs": [],
   "source": [
    "for _ in range(1000):\n",
    "    env.step(env.action_space.sample())  # take a random action\n",
    "env.close()\n"
   ]
  },
  {
   "cell_type": "code",
   "execution_count": null,
   "metadata": {},
   "outputs": [],
   "source": []
  },
  {
   "cell_type": "code",
   "execution_count": 58,
   "metadata": {},
   "outputs": [
    {
     "data": {
      "text/plain": [
       "<matplotlib.image.AxesImage at 0x7f5bb9ef67c0>"
      ]
     },
     "execution_count": 58,
     "metadata": {},
     "output_type": "execute_result"
    },
    {
     "data": {
      "image/png": "[encoded data removed]",
      "text/plain": [
       "<Figure size 432x288 with 1 Axes>"
      ]
     },
     "metadata": {
      "needs_background": "light"
     },
     "output_type": "display_data"
    }
   ],
   "source": [
    "\n",
    "def img_crop(img_arr) :\n",
    "    return img_arr[35:-15,15:-15,:]\n",
    "def rgb2gray(rgb):\n",
    "    return np.dot(rgb[...,:3], [0.299, 0.587, 0.144])[:,:,np.newaxis]\n",
    "def totensor(img_arr) :\n",
    "    return torch.FloatTensor(img_arr.transpose((2, 0, 1))).unsqueeze(dim=0)\n",
    "\n",
    "\n",
    "\n",
    "img_arr = env.render(mode=\"rgb_array\")\n",
    "plt.imshow(rgb2gray(img_crop(img_arr)))"
   ]
  },
  {
   "cell_type": "code",
   "execution_count": 59,
   "metadata": {},
   "outputs": [],
   "source": [
    "model = models.resnet18(pretrained=True)\n",
    "model.fc = nn.Linear(512, env.action_space.n)"
   ]
  },
  {
   "cell_type": "code",
   "execution_count": 60,
   "metadata": {},
   "outputs": [
    {
     "name": "stdout",
     "output_type": "stream",
     "text": [
      "(160, 130, 3)\n",
      "torch.Size([1, 3, 160, 130])\n"
     ]
    }
   ],
   "source": [
    "\n",
    "def data_transform(x) :\n",
    "    x = img_crop(x)\n",
    "    # x = rgb2gray(x)\n",
    "    # print(x.shape)\n",
    "    x = totensor(x)\n",
    "    return x\n",
    "\n",
    "img_arr = env.render(mode=\"rgb_array\")\n",
    "model(data_transform(img_arr))\n",
    "target2idx = {\"0\":0,\"1\":1,\"2\":2,\"3\":3}"
   ]
  },
  {
   "cell_type": "code",
   "execution_count": 61,
   "metadata": {},
   "outputs": [],
   "source": [
    "from rlxai.xai import ImageXAI"
   ]
  },
  {
   "cell_type": "code",
   "execution_count": 62,
   "metadata": {},
   "outputs": [
    {
     "name": "stdout",
     "output_type": "stream",
     "text": [
      "(160, 130, 3)\n",
      "torch.Size([1, 3, 160, 130])\n"
     ]
    },
    {
     "data": {
      "text/plain": [
       "torch.Size([1, 3, 160, 130])"
      ]
     },
     "execution_count": 62,
     "metadata": {},
     "output_type": "execute_result"
    }
   ],
   "source": [
    "data_transform(img_arr).shape"
   ]
  },
  {
   "cell_type": "code",
   "execution_count": 72,
   "metadata": {},
   "outputs": [
    {
     "name": "stdout",
     "output_type": "stream",
     "text": [
      "(160, 130, 3)\n",
      "torch.Size([1, 3, 160, 130])\n"
     ]
    },
    {
     "data": {
      "text/plain": [
       "tensor([[0.3869, 0.4464, 0.0688, 0.1190]], grad_fn=<AddmmBackward>)"
      ]
     },
     "execution_count": 72,
     "metadata": {},
     "output_type": "execute_result"
    }
   ],
   "source": [
    "img_arr = env.render(mode=\"rgb_array\")\n",
    "model(data_transform(img_arr))"
   ]
  },
  {
   "cell_type": "code",
   "execution_count": 64,
   "metadata": {},
   "outputs": [
    {
     "data": {
      "text/plain": [
       "tensor([[ 0.1661,  0.9364, -1.2396,  0.3690]], grad_fn=<AddmmBackward>)"
      ]
     },
     "execution_count": 64,
     "metadata": {},
     "output_type": "execute_result"
    }
   ],
   "source": [
    "model(totensor(img_arr))"
   ]
  },
  {
   "cell_type": "code",
   "execution_count": 65,
   "metadata": {},
   "outputs": [],
   "source": [
    "xai = ImageXAI(model ,  target2idx , data_transform)"
   ]
  },
  {
   "cell_type": "code",
   "execution_count": 76,
   "metadata": {},
   "outputs": [
    {
     "name": "stdout",
     "output_type": "stream",
     "text": [
      "run...\n",
      "classify...\n",
      "(160, 130, 3)\n",
      "torch.Size([1, 3, 160, 130])\n",
      "run for xai...\n",
      "(160, 130, 3)\n",
      "torch.Size([1, 3, 160, 130])\n",
      "Approximation delta:  tensor([0.0634], dtype=torch.float64)\n"
     ]
    }
   ],
   "source": [
    "xai(img_arr , \"0\")"
   ]
  },
  {
   "cell_type": "code",
   "execution_count": 77,
   "metadata": {},
   "outputs": [],
   "source": [
    "folder_dir = \"./result\"\n",
    "from pathlib import Path\n",
    "ResultDir = Path(folder_dir)\n",
    "ResultDir.mkdir(exist_ok=True)"
   ]
  },
  {
   "cell_type": "code",
   "execution_count": 79,
   "metadata": {},
   "outputs": [
    {
     "name": "stdout",
     "output_type": "stream",
     "text": [
      "{0: '0', 1: '1', 2: '2', 3: '3'}\n",
      "probability :  tensor([[0.2814, 0.2986, 0.2047, 0.2153]], grad_fn=<SoftmaxBackward>)\n"
     ]
    }
   ],
   "source": [
    "xai.showResult(save_path=ResultDir.joinpath(\"./Result.png\"))"
   ]
  },
  {
   "cell_type": "code",
   "execution_count": 80,
   "metadata": {},
   "outputs": [
    {
     "name": "stdout",
     "output_type": "stream",
     "text": [
      "{0: '0', 1: '1', 2: '2', 3: '3'}\n",
      "probability :  tensor([[0.2814, 0.2986, 0.2047, 0.2153]], grad_fn=<SoftmaxBackward>)\n",
      "(160, 130, 3)\n",
      "torch.Size([1, 3, 160, 130])\n",
      "Predicted: 1  Probability: tensor([[0.2814, 0.2986, 0.2047, 0.2153]], grad_fn=<SoftmaxBackward>)\n"
     ]
    }
   ],
   "source": [
    "xai.showResult(save_path=ResultDir.joinpath(\"./Result.png\"))\n",
    "xai.show_integrated_gradients(save_folder=ResultDir)\n",
    "xai.plot_Occlusion(save_path=ResultDir.joinpath(\"./Occlusion.png\"))\n",
    "xai.plot_InputXGradient(target=1, save_path=ResultDir.joinpath(\"./InputXGradeint.png\"))\n",
    "xai.plot_InputXGradient_all_target(save_path=ResultDir.joinpath(\"./InputXGradeint_ALL.png\"))\n",
    "xai.plot_GuidedBackprop_all_target(n_row=2, save_path=ResultDir.joinpath(\"./GuideBackprop.png\"))\n",
    "xai.show_encoded_img(save_path=ResultDir.joinpath(\"./EncodedImg.png\"))\n",
    "xai.plot_IntegratedGradients_Black(save_path=ResultDir.joinpath(\"./IntegratedGradients_Black.png\"))\n",
    "xai.plot_IntegratedGradients_NoiseTunnel(save_path=ResultDir.joinpath(\"./IntegratedGradients_NoiseTunnel.png\"))\n",
    "xai.plot_GradientShap(save_path=ResultDir.joinpath(\"./GradientShap.png\"))\n",
    "xai.plot_LRLIME(save_path=ResultDir.joinpath(\"./LRLIME.png\"))"
   ]
  },
  {
   "cell_type": "code",
   "execution_count": null,
   "metadata": {},
   "outputs": [],
   "source": []
  }
 ],
 "metadata": {
  "interpreter": {
   "hash": "31f2aee4e71d21fbe5cf8b01ff0e069b9275f58929596ceb00d14d90e3e16cd6"
  },
  "kernelspec": {
   "display_name": "Python 3.6.9 64-bit",
   "language": "python",
   "name": "python3"
  },
  "language_info": {
   "codemirror_mode": {
    "name": "ipython",
    "version": 3
   },
   "file_extension": ".py",
   "mimetype": "text/x-python",
   "name": "python",
   "nbconvert_exporter": "python",
   "pygments_lexer": "ipython3",
   "version": "3.8.12"
  },
  "orig_nbformat": 4
 },
 "nbformat": 4,
 "nbformat_minor": 2
}
