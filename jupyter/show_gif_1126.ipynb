{
 "cells": [
  {
   "cell_type": "code",
   "execution_count": 21,
   "metadata": {},
   "outputs": [],
   "source": [
    "import numpy as np\n",
    "import matplotlib.pyplot as plt\n",
    "from torch import nn\n",
    "from torchvision import models\n",
    "import torch\n",
    "import gym, sys\n",
    "import cv2\n",
    "from tqdm import tqdm\n",
    "from IPython.display import clear_output\n",
    "from collections import Counter\n",
    "from array2gif import write_gif\n",
    "def data_transform(frame) :\n",
    "    # breakout-v4\n",
    "    # [width, height, channels] (기존)\n",
    "    # [channels, height, width] (변경)\n",
    "    frame = np.array(frame).transpose(2,1,0)\n",
    "    frame = np.expand_dims(frame, 0) \n",
    "    assert np.sum(np.isnan(frame)) == 0, \"state error!\"\n",
    "    return frame.astype(np.float32)\n",
    "    \n",
    "from rlxai.gym_wrapper import FireResetEnv , WarpFrame , ScaledFloatFrame , FrameStack\n"
   ]
  },
  {
   "cell_type": "code",
   "execution_count": 22,
   "metadata": {},
   "outputs": [
    {
     "name": "stdout",
     "output_type": "stream",
     "text": [
      "load\n"
     ]
    }
   ],
   "source": [
    "stack_n = 4\n",
    "# env = gym.make(\"Breakout-v4\") # Deterministic\n",
    "env = gym.make(\"BreakoutDeterministic-v4\") # \n",
    "# env = gym.make(\"BreakoutNoFrameskip-v4\") # \n",
    "if 'FIRE' in env.unwrapped.get_action_meanings():\n",
    "    env = FireResetEnv(env)\n",
    "env = WarpFrame(env)\n",
    "env = ScaledFloatFrame(env)\n",
    "env = FrameStack(env,k=stack_n )\n",
    "\n",
    "random_seed = 54852  # set random seed if required (0 = no random seed)\n",
    "action_dim = env.action_space.n\n",
    "device = \"cpu\"\n",
    "from rlxai.agent.agent_selection import get_agent\n",
    "model_name = \"PPO\"\n",
    "save_path = \"./../model\"\n",
    "save_path = \"/home/docker/Project/XAI-RL/src/rlxai/distributed/model\"\n",
    "model,_,_ = get_agent(model_name=model_name,save_path=save_path,device=device,action_dim=action_dim,state_dim=stack_n ,load_model=True)"
   ]
  },
  {
   "cell_type": "code",
   "execution_count": 23,
   "metadata": {},
   "outputs": [
    {
     "name": "stdout",
     "output_type": "stream",
     "text": [
      "--------------------------------------------------------------------------------------------\n",
      "setting random seed to  54852\n"
     ]
    }
   ],
   "source": [
    "if random_seed:\n",
    "    print(\"--------------------------------------------------------------------------------------------\")\n",
    "    print(\"setting random seed to \", random_seed)\n",
    "    torch.manual_seed(random_seed)\n",
    "    env.seed(random_seed)\n",
    "    np.random.seed(random_seed)"
   ]
  },
  {
   "cell_type": "code",
   "execution_count": 24,
   "metadata": {},
   "outputs": [],
   "source": [
    "ACTION_MEANING = env.unwrapped.get_action_meanings()"
   ]
  },
  {
   "cell_type": "code",
   "execution_count": 25,
   "metadata": {},
   "outputs": [
    {
     "name": "stdout",
     "output_type": "stream",
     "text": [
      "Reward : 60.0\n",
      "Counter({'LEFT': 518, 'RIGHT': 496, 'FIRE': 71, 'NOOP': 62})\n",
      "Reward : 60.0 save gif...\n"
     ]
    }
   ],
   "source": [
    "s = env.reset()\n",
    "img_collection = [env.render(mode=\"rgb_array\").transpose(1,0,2)]\n",
    "iter = 0\n",
    "ACTION_LIST = []\n",
    "R = 0\n",
    "info = {'lives' : 5}\n",
    "last_lives = info['lives']\n",
    "while True:\n",
    "    action_dict = model.select_action(s,False)\n",
    "    if info[\"lives\"] < last_lives :\n",
    "        action = 1\n",
    "        last_lives = info[\"lives\"]\n",
    "    else :\n",
    "        action = int(action_dict[\"action\"])\n",
    "    # action = int(action_dict[\"action\"])\n",
    "    s, r, done, info = env.step(action)\n",
    "    R += r\n",
    "    ACTION_LIST.append(ACTION_MEANING[action])\n",
    "    #############################################\n",
    "    img_collection.append(env.render(mode=\"rgb_array\").transpose(1,0,2))\n",
    "    iter += 1\n",
    "    if done:\n",
    "        break\n",
    "# print(\", \".join(ACTION_LIST))\n",
    "print(f\"Reward : {R}\")\n",
    "print(Counter(ACTION_LIST))\n",
    "if R < 30 :\n",
    "    print(f\"Reward : {R} is very small so we don't make gif file\")\n",
    "else :\n",
    "    file_path = \"./breakout.gif\"\n",
    "    write_gif(img_collection, file_path)\n",
    "    print(f\"Reward : {R} save gif...\")"
   ]
  },
  {
   "cell_type": "code",
   "execution_count": 12,
   "metadata": {},
   "outputs": [],
   "source": [
    "# write_gif([img for img in img_collection[0:20]], file_path)"
   ]
  },
  {
   "cell_type": "code",
   "execution_count": null,
   "metadata": {},
   "outputs": [],
   "source": []
  }
 ],
 "metadata": {
  "interpreter": {
   "hash": "65fec92284e7b352044686d0cc3992d7552da5e0050f1bd8f75b8a8eff2d1295"
  },
  "kernelspec": {
   "display_name": "Python 3.8.12 64-bit ('xai': conda)",
   "language": "python",
   "name": "python3"
  },
  "language_info": {
   "codemirror_mode": {
    "name": "ipython",
    "version": 3
   },
   "file_extension": ".py",
   "mimetype": "text/x-python",
   "name": "python",
   "nbconvert_exporter": "python",
   "pygments_lexer": "ipython3",
   "version": "3.8.12"
  },
  "orig_nbformat": 4
 },
 "nbformat": 4,
 "nbformat_minor": 2
}
