{
 "cells": [
  {
   "cell_type": "code",
   "execution_count": 1,
   "metadata": {},
   "outputs": [
    {
     "name": "stderr",
     "output_type": "stream",
     "text": [
      "/opt/conda/envs/xai/lib/python3.8/site-packages/ale_py/roms/__init__.py:94: DeprecationWarning: Automatic importing of atari-py roms won't be supported in future releases of ale-py. Please migrate over to using `ale-import-roms` OR an ALE-supported ROM package. To make this warning disappear you can run `ale-import-roms --import-from-pkg atari_py.atari_roms`.For more information see: https://github.com/mgbellemare/Arcade-Learning-Environment#rom-management\n",
      "  _RESOLVED_ROMS = _resolve_roms()\n"
     ]
    }
   ],
   "source": [
    "import numpy as np\n",
    "import matplotlib.pyplot as plt\n",
    "from torch import nn\n",
    "from torchvision import models\n",
    "import torch\n",
    "import gym, sys\n",
    "import cv2\n",
    "from tqdm import tqdm\n",
    "from IPython.display import clear_output\n",
    "from array2gif import write_gif\n",
    "def data_transform(frame) :\n",
    "    # breakout-v4\n",
    "    # [width, height, channels] (기존)\n",
    "    # [channels, height, width] (변경)\n",
    "    frame = np.array(frame).transpose(2,1,0)\n",
    "    frame = np.expand_dims(frame, 0) \n",
    "    assert np.sum(np.isnan(frame)) == 0, \"state error!\"\n",
    "    return frame.astype(np.float32)\n",
    "    \n",
    "from rlxai.gym_wrapper import FireResetEnv , WarpFrame , ScaledFloatFrame , FrameStack\n"
   ]
  },
  {
   "cell_type": "code",
   "execution_count": 2,
   "metadata": {},
   "outputs": [
    {
     "name": "stderr",
     "output_type": "stream",
     "text": [
      "A.L.E: Arcade Learning Environment (version +978d2ce)\n",
      "[Powered by Stella]\n"
     ]
    },
    {
     "name": "stdout",
     "output_type": "stream",
     "text": [
      "load\n",
      "...Load model from ../model/PER/model.pt...\n"
     ]
    }
   ],
   "source": [
    "env = gym.make(\"Breakout-v4\") # Deterministic\n",
    "if 'FIRE' in env.unwrapped.get_action_meanings():\n",
    "    env = FireResetEnv(env)\n",
    "env = WarpFrame(env)\n",
    "env = ScaledFloatFrame(env)\n",
    "env = FrameStack(env,k=3)\n",
    "\n",
    "random_seed = 215161  # set random seed if required (0 = no random seed)\n",
    "action_dim = env.action_space.n\n",
    "device = \"cuda:1\"\n",
    "from rlxai.agent.agent_selection import get_agent\n",
    "model_name = \"PER\"\n",
    "save_path = \"./../model\"\n",
    "model,_,_ = get_agent(model_name=model_name,save_path=save_path,device=device,action_dim=action_dim,state_dim=3,load_model=True)"
   ]
  },
  {
   "cell_type": "code",
   "execution_count": 3,
   "metadata": {},
   "outputs": [
    {
     "name": "stdout",
     "output_type": "stream",
     "text": [
      "--------------------------------------------------------------------------------------------\n",
      "setting random seed to  215161\n"
     ]
    }
   ],
   "source": [
    "if random_seed:\n",
    "    print(\"--------------------------------------------------------------------------------------------\")\n",
    "    print(\"setting random seed to \", random_seed)\n",
    "    torch.manual_seed(random_seed)\n",
    "    env.seed(random_seed)\n",
    "    np.random.seed(random_seed)"
   ]
  },
  {
   "cell_type": "code",
   "execution_count": 4,
   "metadata": {},
   "outputs": [],
   "source": [
    "ACTION_MEANING = env.unwrapped.get_action_meanings()"
   ]
  },
  {
   "cell_type": "code",
   "execution_count": 5,
   "metadata": {},
   "outputs": [
    {
     "data": {
      "text/plain": [
       "(210, 160, 3)"
      ]
     },
     "execution_count": 5,
     "metadata": {},
     "output_type": "execute_result"
    }
   ],
   "source": [
    "env.render(mode=\"rgb_array\").shape # "
   ]
  },
  {
   "cell_type": "code",
   "execution_count": 11,
   "metadata": {},
   "outputs": [
    {
     "name": "stdout",
     "output_type": "stream",
     "text": [
      "Reward : 36.0\n",
      "Reward : 36.0 is very small so we don't make gif file\n"
     ]
    }
   ],
   "source": [
    "s = env.reset()\n",
    "img_collection = [env.render(mode=\"rgb_array\").transpose(1,0,2)]\n",
    "iter = 0\n",
    "ACTION_LIST = []\n",
    "R = 0\n",
    "info = {'lives' : 5}\n",
    "last_lives = info['lives']\n",
    "while True:\n",
    "    action_dict = model.select_action(data_transform(s),False)\n",
    "    if info[\"lives\"] < last_lives :\n",
    "        action = 1\n",
    "        last_lives = info[\"lives\"]\n",
    "    else :\n",
    "        action = int(action_dict[\"action\"])\n",
    "    s, r, done, info = env.step(action)\n",
    "    R += r\n",
    "    ACTION_LIST.append(ACTION_MEANING[action])\n",
    "    #############################################\n",
    "    img_collection.append(env.render(mode=\"rgb_array\").transpose(1,0,2))\n",
    "    iter += 1\n",
    "    if done:\n",
    "        break\n",
    "# print(\", \".join(ACTION_LIST))\n",
    "print(f\"Reward : {R}\")\n",
    "if R < 60 :\n",
    "    print(f\"Reward : {R} is very small so we don't make gif file\")\n",
    "else :\n",
    "    file_path = \"./breakout.gif\"\n",
    "    write_gif(img_collection, file_path)\n",
    "    print(f\"Reward : {R} save gif...\")"
   ]
  },
  {
   "cell_type": "code",
   "execution_count": 15,
   "metadata": {},
   "outputs": [],
   "source": [
    "# write_gif([img for img in img_collection[0:20]], file_path)"
   ]
  },
  {
   "cell_type": "code",
   "execution_count": null,
   "metadata": {},
   "outputs": [],
   "source": []
  }
 ],
 "metadata": {
  "interpreter": {
   "hash": "65fec92284e7b352044686d0cc3992d7552da5e0050f1bd8f75b8a8eff2d1295"
  },
  "kernelspec": {
   "display_name": "Python 3.8.12 64-bit ('xai': conda)",
   "language": "python",
   "name": "python3"
  },
  "language_info": {
   "codemirror_mode": {
    "name": "ipython",
    "version": 3
   },
   "file_extension": ".py",
   "mimetype": "text/x-python",
   "name": "python",
   "nbconvert_exporter": "python",
   "pygments_lexer": "ipython3",
   "version": "3.8.12"
  },
  "orig_nbformat": 4
 },
 "nbformat": 4,
 "nbformat_minor": 2
}
