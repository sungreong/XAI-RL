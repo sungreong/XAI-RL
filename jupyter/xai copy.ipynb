{
 "cells": [
  {
   "cell_type": "code",
   "execution_count": 1,
   "metadata": {},
   "outputs": [],
   "source": [
    "%load_ext autoreload\n",
    "%autoreload 2"
   ]
  },
  {
   "cell_type": "code",
   "execution_count": 2,
   "metadata": {},
   "outputs": [],
   "source": [
    "from rlxai import ImageXAI"
   ]
  },
  {
   "cell_type": "code",
   "execution_count": 3,
   "metadata": {},
   "outputs": [
    {
     "name": "stderr",
     "output_type": "stream",
     "text": [
      "/opt/conda/envs/xai/lib/python3.8/site-packages/ale_py/roms/__init__.py:94: DeprecationWarning: Automatic importing of atari-py roms won't be supported in future releases of ale-py. Please migrate over to using `ale-import-roms` OR an ALE-supported ROM package. To make this warning disappear you can run `ale-import-roms --import-from-pkg atari_py.atari_roms`.For more information see: https://github.com/mgbellemare/Arcade-Learning-Environment#rom-management\n",
      "  _RESOLVED_ROMS = _resolve_roms()\n",
      "A.L.E: Arcade Learning Environment (version +978d2ce)\n",
      "[Powered by Stella]\n"
     ]
    }
   ],
   "source": [
    "\n",
    "import gym\n",
    "import numpy as np\n",
    "import matplotlib.pyplot as plt\n",
    "from torch import nn \n",
    "from torchvision import models\n",
    "import torch \n",
    "env = gym.make(\"Breakout-v4\")"
   ]
  },
  {
   "cell_type": "code",
   "execution_count": 39,
   "metadata": {},
   "outputs": [
    {
     "name": "stdout",
     "output_type": "stream",
     "text": [
      "load\n"
     ]
    }
   ],
   "source": [
    "\n",
    "from pathlib import Path\n",
    "from rlxai.agent.ppo_v2 import PPO\n",
    "\n",
    "################ PPO hyperparameters ################\n",
    "\n",
    "\n",
    "eps_clip = 0.1  # clip parameter for PPO\n",
    "gamma = 0.99  # discount factor\n",
    "\n",
    "lr_actor = 0.0005  # learning rate for actor network\n",
    "lr_critic = 0.001  # learning rate for critic network\n",
    "n_step = 1000 # update step \n",
    "K_epochs = 5  # update policy for K epochs\n",
    "batch_size = 128\n",
    "\n",
    "action_dim = env.action_space.n\n",
    "\n",
    "\n",
    "device = \"cpu\"\n",
    "ppo_agent = PPO(3, action_dim, lr_actor, lr_critic, gamma, K_epochs, batch_size, eps_clip, device=device,n_step=n_step)\n",
    "model_path = Path(\"./../model\")\n",
    "model_algo_path = model_path.joinpath(\"./PPO\")\n",
    "model_algo_path.mkdir(exist_ok=True, parents=True)\n",
    "\n",
    "checkpoint_path = model_algo_path.joinpath(\"./model.pt\")\n",
    "try :\n",
    "    print(\"load\")\n",
    "    ppo_agent.load(checkpoint_path)\n",
    "except Exception as e :\n",
    "    print(e)\n",
    "    pass "
   ]
  },
  {
   "cell_type": "code",
   "execution_count": 434,
   "metadata": {},
   "outputs": [],
   "source": [
    "from rlxai.dp.img import data_transform"
   ]
  },
  {
   "cell_type": "code",
   "execution_count": 435,
   "metadata": {},
   "outputs": [
    {
     "name": "stdout",
     "output_type": "stream",
     "text": [
      "(1, 1, 84, 84)\n"
     ]
    },
    {
     "data": {
      "text/plain": [
       "<matplotlib.image.AxesImage at 0x7f7a4c550a00>"
      ]
     },
     "execution_count": 435,
     "metadata": {},
     "output_type": "execute_result"
    },
    {
     "data": {
      "image/png": "[encoded data removed]",
      "text/plain": [
       "<Figure size 432x288 with 1 Axes>"
      ]
     },
     "metadata": {
      "needs_background": "light"
     },
     "output_type": "display_data"
    }
   ],
   "source": [
    "s = env.reset()\n",
    "s ,_,_,_= env.step(1)\n",
    "print(data_transform(s).shape)\n",
    "plt.imshow(np.squeeze(data_transform(s),0).transpose(1,2,0))"
   ]
  },
  {
   "cell_type": "code",
   "execution_count": 436,
   "metadata": {},
   "outputs": [],
   "source": [
    "s = env.reset()\n",
    "s,_,_,_ = env.step(1)\n",
    "state_list =[ data_transform(s)] * 3"
   ]
  },
  {
   "cell_type": "code",
   "execution_count": 437,
   "metadata": {},
   "outputs": [
    {
     "data": {
      "image/png": "[encoded data removed]",
      "text/plain": [
       "<Figure size 432x288 with 1 Axes>"
      ]
     },
     "metadata": {
      "needs_background": "light"
     },
     "output_type": "display_data"
    }
   ],
   "source": [
    "plt.imshow(np.concatenate(state_list , axis=1).squeeze(0).transpose(1,2,0))\n",
    "plt.show()"
   ]
  },
  {
   "cell_type": "code",
   "execution_count": 519,
   "metadata": {},
   "outputs": [
    {
     "data": {
      "image/png": "[encoded data removed]",
      "text/plain": [
       "<Figure size 432x288 with 1 Axes>"
      ]
     },
     "metadata": {
      "needs_background": "light"
     },
     "output_type": "display_data"
    }
   ],
   "source": [
    "s ,_,_,_= env.step(0)\n",
    "state_list.pop(0)\n",
    "state_list.append(data_transform(s))\n",
    "plt.imshow(np.concatenate(state_list , axis=1).squeeze(0).transpose(1,2,0))\n",
    "plt.show()"
   ]
  },
  {
   "cell_type": "code",
   "execution_count": 518,
   "metadata": {},
   "outputs": [
    {
     "data": {
      "image/png": "[encoded data removed]",
      "text/plain": [
       "<Figure size 432x288 with 1 Axes>"
      ]
     },
     "metadata": {
      "needs_background": "light"
     },
     "output_type": "display_data"
    }
   ],
   "source": [
    "s ,_,_,info= env.step(3)\n",
    "state_list.pop(0)\n",
    "state_list.append(data_transform(np.zeros_like(s)))\n",
    "plt.imshow(np.concatenate(state_list , axis=1).squeeze(0).transpose(1,2,0))\n",
    "plt.show()"
   ]
  },
  {
   "cell_type": "code",
   "execution_count": 419,
   "metadata": {},
   "outputs": [
    {
     "ename": "ValueError",
     "evalue": "all the input array dimensions for the concatenation axis must match exactly, but along dimension 2, the array at index 0 has size 84 and the array at index 1 has size 210",
     "output_type": "error",
     "traceback": [
      "\u001b[0;31m---------------------------------------------------------------------------\u001b[0m",
      "\u001b[0;31mValueError\u001b[0m                                Traceback (most recent call last)",
      "\u001b[0;32m/tmp/ipykernel_3087700/1329938253.py\u001b[0m in \u001b[0;36m<module>\u001b[0;34m\u001b[0m\n\u001b[1;32m      2\u001b[0m \u001b[0mstate_list\u001b[0m\u001b[0;34m.\u001b[0m\u001b[0mpop\u001b[0m\u001b[0;34m(\u001b[0m\u001b[0;36m0\u001b[0m\u001b[0;34m)\u001b[0m\u001b[0;34m\u001b[0m\u001b[0;34m\u001b[0m\u001b[0m\n\u001b[1;32m      3\u001b[0m \u001b[0mstate_list\u001b[0m\u001b[0;34m.\u001b[0m\u001b[0mappend\u001b[0m\u001b[0;34m(\u001b[0m\u001b[0mdata_transform\u001b[0m\u001b[0;34m(\u001b[0m\u001b[0ms\u001b[0m\u001b[0;34m)\u001b[0m\u001b[0;34m)\u001b[0m\u001b[0;34m\u001b[0m\u001b[0;34m\u001b[0m\u001b[0m\n\u001b[0;32m----> 4\u001b[0;31m \u001b[0mplt\u001b[0m\u001b[0;34m.\u001b[0m\u001b[0mimshow\u001b[0m\u001b[0;34m(\u001b[0m\u001b[0mnp\u001b[0m\u001b[0;34m.\u001b[0m\u001b[0mconcatenate\u001b[0m\u001b[0;34m(\u001b[0m\u001b[0mstate_list\u001b[0m \u001b[0;34m,\u001b[0m \u001b[0maxis\u001b[0m\u001b[0;34m=\u001b[0m\u001b[0;36m1\u001b[0m\u001b[0;34m)\u001b[0m\u001b[0;34m.\u001b[0m\u001b[0msqueeze\u001b[0m\u001b[0;34m(\u001b[0m\u001b[0;36m0\u001b[0m\u001b[0;34m)\u001b[0m\u001b[0;34m.\u001b[0m\u001b[0mtranspose\u001b[0m\u001b[0;34m(\u001b[0m\u001b[0;36m1\u001b[0m\u001b[0;34m,\u001b[0m\u001b[0;36m2\u001b[0m\u001b[0;34m,\u001b[0m\u001b[0;36m0\u001b[0m\u001b[0;34m)\u001b[0m\u001b[0;34m)\u001b[0m\u001b[0;34m\u001b[0m\u001b[0;34m\u001b[0m\u001b[0m\n\u001b[0m\u001b[1;32m      5\u001b[0m \u001b[0mplt\u001b[0m\u001b[0;34m.\u001b[0m\u001b[0mshow\u001b[0m\u001b[0;34m(\u001b[0m\u001b[0;34m)\u001b[0m\u001b[0;34m\u001b[0m\u001b[0;34m\u001b[0m\u001b[0m\n",
      "\u001b[0;32m<__array_function__ internals>\u001b[0m in \u001b[0;36mconcatenate\u001b[0;34m(*args, **kwargs)\u001b[0m\n",
      "\u001b[0;31mValueError\u001b[0m: all the input array dimensions for the concatenation axis must match exactly, but along dimension 2, the array at index 0 has size 84 and the array at index 1 has size 210"
     ]
    }
   ],
   "source": [
    "s ,_,_,_= env.step(2)\n",
    "state_list.pop(0)\n",
    "state_list.append(data_transform(s))\n",
    "plt.imshow(np.concatenate(state_list , axis=1).squeeze(0).transpose(1,2,0))\n",
    "plt.show()"
   ]
  },
  {
   "cell_type": "code",
   "execution_count": 417,
   "metadata": {},
   "outputs": [],
   "source": [
    "import cv2\n",
    "def img_crop(img_arr):\n",
    "    # breakout\n",
    "    return img_arr[55:-15, 15:-15, :]\n",
    "\n",
    "\n",
    "def rgb2gray(rgb):\n",
    "    image_data = cv2.cvtColor(rgb, cv2.COLOR_BGR2GRAY)\n",
    "    image_data[image_data > 0] = 255\n",
    "    return image_data\n",
    "\n",
    "def img_resize(img_arr) :\n",
    "    img_arr = cv2.resize(img_arr, (84, 84))\n",
    "    image_data = np.reshape(img_arr, (84, 84, 1))\n",
    "    return image_data\n",
    "    \n",
    "\n",
    "\n",
    "def totensor(img_arr):\n",
    "    return torch.FloatTensor(img_arr)\n",
    "\n",
    "\n",
    "def data_transform(x):\n",
    "    # breakout \n",
    "    # x = img_crop(x)\n",
    "    # x = rgb2gray(x)\n",
    "    x = np.expand_dims(x.transpose((2, 0, 1)),axis=0)\n",
    "    x = totensor(x)\n",
    "    return x"
   ]
  },
  {
   "cell_type": "code",
   "execution_count": 167,
   "metadata": {},
   "outputs": [],
   "source": [
    "target2idx = {i:idx  for idx , i in enumerate(env.unwrapped.get_action_meanings())}\n",
    "xai = ImageXAI(ppo_agent.policy.actor ,  target2idx , data_transform)"
   ]
  },
  {
   "cell_type": "code",
   "execution_count": 168,
   "metadata": {},
   "outputs": [
    {
     "data": {
      "image/png": "[encoded data removed]",
      "text/plain": [
       "<Figure size 432x288 with 1 Axes>"
      ]
     },
     "metadata": {
      "needs_background": "light"
     },
     "output_type": "display_data"
    },
    {
     "data": {
      "image/png": "[encoded data removed]",
      "text/plain": [
       "<Figure size 432x288 with 1 Axes>"
      ]
     },
     "metadata": {
      "needs_background": "light"
     },
     "output_type": "display_data"
    }
   ],
   "source": [
    "img_arr = env.render(mode=\"rgb_array\")\n",
    "plt.imshow(img_arr)\n",
    "plt.show()\n",
    "plt.imshow(img_resize(rgb2gray(img_crop(img_arr))))\n",
    "plt.show()"
   ]
  },
  {
   "cell_type": "code",
   "execution_count": 169,
   "metadata": {},
   "outputs": [
    {
     "data": {
      "text/plain": [
       "array([[[  0,   0,   0],\n",
       "        [  0,   0,   0],\n",
       "        [  0,   0,   0],\n",
       "        ...,\n",
       "        [  0,   0,   0],\n",
       "        [  0,   0,   0],\n",
       "        [  0,   0,   0]],\n",
       "\n",
       "       [[  0,   0,   0],\n",
       "        [  0,   0,   0],\n",
       "        [  0,   0,   0],\n",
       "        ...,\n",
       "        [  0,   0,   0],\n",
       "        [  0,   0,   0],\n",
       "        [  0,   0,   0]],\n",
       "\n",
       "       [[200,  72,  72],\n",
       "        [200,  72,  72],\n",
       "        [200,  72,  72],\n",
       "        ...,\n",
       "        [200,  72,  72],\n",
       "        [200,  72,  72],\n",
       "        [200,  72,  72]],\n",
       "\n",
       "       ...,\n",
       "\n",
       "       [[  0,   0,   0],\n",
       "        [  0,   0,   0],\n",
       "        [  0,   0,   0],\n",
       "        ...,\n",
       "        [  0,   0,   0],\n",
       "        [  0,   0,   0],\n",
       "        [  0,   0,   0]],\n",
       "\n",
       "       [[  0,   0,   0],\n",
       "        [  0,   0,   0],\n",
       "        [  0,   0,   0],\n",
       "        ...,\n",
       "        [  0,   0,   0],\n",
       "        [  0,   0,   0],\n",
       "        [  0,   0,   0]],\n",
       "\n",
       "       [[  0,   0,   0],\n",
       "        [  0,   0,   0],\n",
       "        [  0,   0,   0],\n",
       "        ...,\n",
       "        [  0,   0,   0],\n",
       "        [  0,   0,   0],\n",
       "        [  0,   0,   0]]], dtype=uint8)"
      ]
     },
     "execution_count": 169,
     "metadata": {},
     "output_type": "execute_result"
    }
   ],
   "source": [
    "img_crop(ori_img_arr)"
   ]
  },
  {
   "cell_type": "code",
   "execution_count": 170,
   "metadata": {},
   "outputs": [],
   "source": [
    "env.reset()\n",
    "ori_img_arr_1 ,_,_,_= env.step(1)\n",
    "ori_img_arr_2 ,_,_,_= env.step(2)\n",
    "ori_img_arr_3 ,_,_,_= env.step(3)"
   ]
  },
  {
   "cell_type": "code",
   "execution_count": 185,
   "metadata": {},
   "outputs": [
    {
     "data": {
      "text/plain": [
       "<matplotlib.image.AxesImage at 0x7f7a5c33b640>"
      ]
     },
     "execution_count": 185,
     "metadata": {},
     "output_type": "execute_result"
    },
    {
     "data": {
      "image/png": "[encoded data removed]",
      "text/plain": [
       "<Figure size 432x288 with 1 Axes>"
      ]
     },
     "metadata": {
      "needs_background": "light"
     },
     "output_type": "display_data"
    }
   ],
   "source": [
    "plt.imshow(x[0])"
   ]
  },
  {
   "cell_type": "code",
   "execution_count": 258,
   "metadata": {},
   "outputs": [
    {
     "data": {
      "text/plain": [
       "<matplotlib.image.AxesImage at 0x7f7a4ce42a00>"
      ]
     },
     "execution_count": 258,
     "metadata": {},
     "output_type": "execute_result"
    },
    {
     "data": {
      "image/png": "[encoded data removed]",
      "text/plain": [
       "<Figure size 432x288 with 1 Axes>"
      ]
     },
     "metadata": {
      "needs_background": "light"
     },
     "output_type": "display_data"
    }
   ],
   "source": [
    "x = [img_resize(rgb2gray(img_crop(i))) for i in [ori_img_arr_1 , ori_img_arr_2, ori_img_arr_3]]\n",
    "xx = np.concatenate(x,axis=2)\n",
    "xx = rgb2gray(xx)\n",
    "plt.imshow(xx)"
   ]
  },
  {
   "cell_type": "code",
   "execution_count": 189,
   "metadata": {},
   "outputs": [],
   "source": [
    "# env.reset()\n",
    "# ori_img_arr = env.step(1)\n",
    "# ori_img_arr = env.render(mode=\"rgb_array\")\n",
    "# img_arr = np.concatenate([img_resize(img_crop(ori_img_arr))] * 3 ,axis=2)"
   ]
  },
  {
   "cell_type": "code",
   "execution_count": 190,
   "metadata": {},
   "outputs": [],
   "source": [
    "# ori_img_arr = env.render(mode=\"rgb_array\")\n",
    "# bin = img_resize(img_crop(ori_img_arr))\n",
    "# bin += img_resize(img_crop(ori_img_arr))\n",
    "# bin +=img_resize(img_crop(ori_img_arr))\n",
    "# bin = np.clip((bin/3) , 0, 255).astype(int)\n",
    "# plt.imshow(bin)\n"
   ]
  },
  {
   "cell_type": "code",
   "execution_count": 191,
   "metadata": {},
   "outputs": [],
   "source": [
    "# ori_img_arr = env.step(1)\n",
    "# np.sum([img_resize(img_crop(ori_img_arr))],axis=3).shape"
   ]
  },
  {
   "cell_type": "code",
   "execution_count": 192,
   "metadata": {},
   "outputs": [],
   "source": [
    "# ori_img_arr = env.render(mode=\"rgb_array\")\n",
    "# plt.imshow(ori_img_arr)\n",
    "# plt.show()\n",
    "# plt.imshow(img_resize(img_crop(ori_img_arr)))\n",
    "# plt.show()\n",
    "# # plt.imshow(img_arr)\n",
    "# # plt.show()"
   ]
  },
  {
   "cell_type": "code",
   "execution_count": 327,
   "metadata": {},
   "outputs": [
    {
     "name": "stdout",
     "output_type": "stream",
     "text": [
      "run...\n",
      "classify...\n",
      "run for xai...\n",
      "Approximation delta:  tensor([0.0100], dtype=torch.float64)\n"
     ]
    }
   ],
   "source": [
    "env.reset()\n",
    "env.step(1)\n",
    "env.step(2)\n",
    "env.step(3)\n",
    "ori_img_arr_1 ,_,_,_= env.step(2)\n",
    "ori_img_arr_2 ,_,_,_= env.step(2)\n",
    "ori_img_arr_3 ,_,_,_= env.step(3)\n",
    "\n",
    "x = [img_resize(img_crop(i)) for i in [ori_img_arr_1 , ori_img_arr_2, ori_img_arr_3]]\n",
    "xx = np.concatenate(x,axis=2)\n",
    "img_arr = xx\n",
    "# img_arr = img_resize(img_crop(ori_img_arr))\n",
    "xai(img_arr , \"0\")"
   ]
  },
  {
   "cell_type": "code",
   "execution_count": 348,
   "metadata": {},
   "outputs": [
    {
     "data": {
      "text/plain": [
       "<matplotlib.image.AxesImage at 0x7f7a4c0e1ca0>"
      ]
     },
     "execution_count": 348,
     "metadata": {},
     "output_type": "execute_result"
    },
    {
     "data": {
      "image/png": "[encoded data removed]",
      "text/plain": [
       "<Figure size 432x288 with 1 Axes>"
      ]
     },
     "metadata": {
      "needs_background": "light"
     },
     "output_type": "display_data"
    }
   ],
   "source": [
    "plt.imshow(xx)"
   ]
  },
  {
   "cell_type": "code",
   "execution_count": 328,
   "metadata": {},
   "outputs": [],
   "source": [
    "from captum.attr import GuidedGradCam , LayerConductance"
   ]
  },
  {
   "cell_type": "code",
   "execution_count": 329,
   "metadata": {},
   "outputs": [],
   "source": [
    "from captum.attr import visualization as viz\n",
    "def show_attr(attr_map, save_path):\n",
    "    plt_fig, _ = viz.visualize_image_attr(\n",
    "        attr_map,  # adjust shape to height, width, channels\n",
    "        method=\"heat_map\",\n",
    "        sign=\"all\",\n",
    "        show_colorbar=True,\n",
    "        use_pyplot=True,\n",
    "    )\n",
    "    if save_path is None:\n",
    "        plt.show()\n",
    "    else:\n",
    "        plt_fig.savefig(save_path)\n",
    "        plt.close()\n"
   ]
  },
  {
   "cell_type": "code",
   "execution_count": 330,
   "metadata": {},
   "outputs": [
    {
     "data": {
      "text/plain": [
       "<matplotlib.image.AxesImage at 0x7f7a4c8a1490>"
      ]
     },
     "execution_count": 330,
     "metadata": {},
     "output_type": "execute_result"
    },
    {
     "data": {
      "image/png": "[encoded data removed]",
      "text/plain": [
       "<Figure size 432x288 with 1 Axes>"
      ]
     },
     "metadata": {
      "needs_background": "light"
     },
     "output_type": "display_data"
    }
   ],
   "source": [
    "plt.imshow(xai.input_dict[\"image\"])"
   ]
  },
  {
   "cell_type": "code",
   "execution_count": 341,
   "metadata": {},
   "outputs": [],
   "source": [
    "target = 0\n",
    "guided_gc = GuidedGradCam(xai.model,xai.model.conv1)\n",
    "input = xai.change_dim(xai.transform_input(xai.input_dict))\n",
    "attribution = guided_gc.attribute(input,target)\n",
    "attribution = np.transpose(attribution.squeeze(0).cpu().detach().numpy(), (1, 2, 0))"
   ]
  },
  {
   "cell_type": "code",
   "execution_count": 342,
   "metadata": {},
   "outputs": [],
   "source": [
    "img = img_arr\n",
    "heatmap = attribution\n",
    "heatmap = np.maximum(heatmap, 0)\n",
    "heatmap /= np.max(heatmap)\n",
    "heatmap = cv2.resize(heatmap, (img.shape[1], img.shape[0]))\n",
    "heatmap = np.uint8(255 * heatmap)\n",
    "heatmap = cv2.applyColorMap(heatmap, cv2.COLORMAP_JET)\n",
    "superimposed_img = heatmap * 0.4 + img"
   ]
  },
  {
   "cell_type": "code",
   "execution_count": 343,
   "metadata": {},
   "outputs": [
    {
     "data": {
      "text/plain": [
       "<matplotlib.image.AxesImage at 0x7f7a4c2e1280>"
      ]
     },
     "execution_count": 343,
     "metadata": {},
     "output_type": "execute_result"
    },
    {
     "data": {
      "image/png": "[encoded data removed]",
      "text/plain": [
       "<Figure size 288x288 with 1 Axes>"
      ]
     },
     "metadata": {
      "needs_background": "light"
     },
     "output_type": "display_data"
    }
   ],
   "source": [
    "plt.matshow(heatmap.squeeze())"
   ]
  },
  {
   "cell_type": "code",
   "execution_count": 344,
   "metadata": {},
   "outputs": [
    {
     "name": "stderr",
     "output_type": "stream",
     "text": [
      "Clipping input data to the valid range for imshow with RGB data ([0..1] for floats or [0..255] for integers).\n"
     ]
    },
    {
     "data": {
      "text/plain": [
       "<matplotlib.image.AxesImage at 0x7f7a4c251c70>"
      ]
     },
     "execution_count": 344,
     "metadata": {},
     "output_type": "execute_result"
    },
    {
     "data": {
      "image/png": "[encoded data removed]",
      "text/plain": [
       "<Figure size 432x288 with 1 Axes>"
      ]
     },
     "metadata": {
      "needs_background": "light"
     },
     "output_type": "display_data"
    }
   ],
   "source": [
    "plt.imshow(superimposed_img)"
   ]
  },
  {
   "cell_type": "code",
   "execution_count": 345,
   "metadata": {},
   "outputs": [
    {
     "data": {
      "image/png": "[encoded data removed]",
      "text/plain": [
       "<Figure size 432x432 with 2 Axes>"
      ]
     },
     "metadata": {
      "needs_background": "light"
     },
     "output_type": "display_data"
    }
   ],
   "source": [
    "show_attr(attribution, save_path = None)\n",
    "plt.show()"
   ]
  },
  {
   "cell_type": "code",
   "execution_count": null,
   "metadata": {},
   "outputs": [],
   "source": []
  },
  {
   "cell_type": "code",
   "execution_count": 143,
   "metadata": {},
   "outputs": [],
   "source": [
    "folder_dir = \"./result\"\n",
    "from pathlib import Path\n",
    "ResultDir = Path(folder_dir)\n",
    "ResultDir.mkdir(exist_ok=True)"
   ]
  },
  {
   "cell_type": "code",
   "execution_count": 24,
   "metadata": {},
   "outputs": [
    {
     "name": "stdout",
     "output_type": "stream",
     "text": [
      "{0: '0', 1: '1', 2: '2', 3: '3'}\n",
      "probability :  tensor([[1.6103e-05, 4.4897e-04, 9.9946e-01, 7.9566e-05]],\n",
      "       grad_fn=<SoftmaxBackward>)\n"
     ]
    }
   ],
   "source": [
    "xai.showResult(save_path=ResultDir.joinpath(\"./Result.png\"))"
   ]
  },
  {
   "cell_type": "code",
   "execution_count": 25,
   "metadata": {},
   "outputs": [
    {
     "name": "stdout",
     "output_type": "stream",
     "text": [
      "Predicted: 2  Probability: tensor([[1.6103e-05, 4.4897e-04, 9.9946e-01, 7.9566e-05]],\n",
      "       grad_fn=<SoftmaxBackward>)\n",
      "step1\n",
      "step2\n",
      "step3\n",
      "step4\n"
     ]
    }
   ],
   "source": [
    "xai.show_integrated_gradients(save_folder=ResultDir)\n",
    "xai.plot_Occlusion(strides=(1, 8, 8), sliding_window_shapes=(1, 15, 15),save_path=ResultDir.joinpath(\"./Occlusion.png\"))\n",
    "xai.plot_InputXGradient(target=1, save_path=ResultDir.joinpath(\"./InputXGradeint.png\"))\n",
    "xai.plot_InputXGradient_all_target(save_path=ResultDir.joinpath(\"./InputXGradeint_ALL.png\"))\n",
    "xai.plot_GuidedBackprop_all_target(n_row=2, save_path=ResultDir.joinpath(\"./GuideBackprop.png\"))\n",
    "xai.plot_IntegratedGradients_Black(save_path=ResultDir.joinpath(\"./IntegratedGradients_Black.png\"))"
   ]
  },
  {
   "cell_type": "code",
   "execution_count": 26,
   "metadata": {},
   "outputs": [
    {
     "data": {
      "image/png": "[encoded data removed]",
      "text/plain": [
       "<Figure size 576x432 with 4 Axes>"
      ]
     },
     "metadata": {
      "needs_background": "light"
     },
     "output_type": "display_data"
    },
    {
     "name": "stderr",
     "output_type": "stream",
     "text": [
      "Lime attribution: 100%|██████████| 3/3 [00:08<00:00,  2.95s/it]\n"
     ]
    }
   ],
   "source": [
    "xai.plot_IntegratedGradients_NoiseTunnel(save_path=ResultDir.joinpath(\"./IntegratedGradients_NoiseTunnel.png\"))\n",
    "xai.plot_GradientShap(save_path=ResultDir.joinpath(\"./GradientShap.png\"))\n",
    "xai.plot_LRLIME(save_path=ResultDir.joinpath(\"./LRLIME.png\"))"
   ]
  },
  {
   "cell_type": "code",
   "execution_count": null,
   "metadata": {},
   "outputs": [],
   "source": []
  }
 ],
 "metadata": {
  "interpreter": {
   "hash": "31f2aee4e71d21fbe5cf8b01ff0e069b9275f58929596ceb00d14d90e3e16cd6"
  },
  "kernelspec": {
   "display_name": "Python 3.6.9 64-bit",
   "language": "python",
   "name": "python3"
  },
  "language_info": {
   "codemirror_mode": {
    "name": "ipython",
    "version": 3
   },
   "file_extension": ".py",
   "mimetype": "text/x-python",
   "name": "python",
   "nbconvert_exporter": "python",
   "pygments_lexer": "ipython3",
   "version": "3.8.12"
  },
  "orig_nbformat": 4
 },
 "nbformat": 4,
 "nbformat_minor": 2
}
