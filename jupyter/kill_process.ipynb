{
 "cells": [
  {
   "cell_type": "code",
   "execution_count": 1,
   "metadata": {},
   "outputs": [],
   "source": [
    "import os\n",
    "def check_kill_process(pstring):\n",
    "    import os, signal\n",
    "    for line in os.popen(f\"ps ax | grep {pstring} | grep -v grep\"):\n",
    "        fields = line.split()\n",
    "        pid = fields[0]\n",
    "        os.kill(int(pid),signal.SIGKILL)"
   ]
  },
  {
   "cell_type": "code",
   "execution_count": 7,
   "metadata": {},
   "outputs": [
    {
     "name": "stdout",
     "output_type": "stream",
     "text": [
      " 5676 pts/0    Rl   367:08 python train.py --algo PPO --device cpu --seed 228725 --env_name BreakoutDeterministic-v4\n",
      "\n",
      " 5766 pts/0    Rl   349:22 python train.py --algo DQN --device cpu --seed 228725 --env_name BreakoutDeterministic-v4\n",
      "\n",
      " 5869 pts/0    Sl   350:04 python train.py --algo Double --device cpu --seed 228725 --env_name BreakoutDeterministic-v4\n",
      "\n",
      " 5978 pts/0    Rl   348:02 python train.py --algo PER --device cpu --seed 228725 --env_name BreakoutDeterministic-v4\n",
      "\n"
     ]
    }
   ],
   "source": [
    "# /opt/conda/envs/snkr/bin/python \n",
    "pstring = '\"python train.py\"' # \n",
    "for line in os.popen(f\"ps ax | grep {pstring} | grep -v grep\"):\n",
    "    print(line)"
   ]
  },
  {
   "cell_type": "code",
   "execution_count": 8,
   "metadata": {},
   "outputs": [
    {
     "name": "stdout",
     "output_type": "stream",
     "text": [
      "kill process\n"
     ]
    }
   ],
   "source": [
    "pstring = '\"python train.py\"' # \n",
    "check_kill_process(pstring)\n",
    "for line in os.popen(f\"ps ax | grep {pstring} | grep -v grep\"):\n",
    "    print(line)\n",
    "else :\n",
    "    print(\"kill process\")"
   ]
  },
  {
   "cell_type": "code",
   "execution_count": null,
   "metadata": {},
   "outputs": [],
   "source": []
  }
 ],
 "metadata": {
  "interpreter": {
   "hash": "65fec92284e7b352044686d0cc3992d7552da5e0050f1bd8f75b8a8eff2d1295"
  },
  "kernelspec": {
   "display_name": "Python 3.8.12 64-bit ('xai': conda)",
   "language": "python",
   "name": "python3"
  },
  "language_info": {
   "codemirror_mode": {
    "name": "ipython",
    "version": 3
   },
   "file_extension": ".py",
   "mimetype": "text/x-python",
   "name": "python",
   "nbconvert_exporter": "python",
   "pygments_lexer": "ipython3",
   "version": "3.8.12"
  },
  "orig_nbformat": 4
 },
 "nbformat": 4,
 "nbformat_minor": 2
}
