{
 "cells": [
  {
   "cell_type": "code",
   "execution_count": 1,
   "metadata": {},
   "outputs": [],
   "source": [
    "%load_ext autoreload\n",
    "%autoreload 2"
   ]
  },
  {
   "cell_type": "code",
   "execution_count": 2,
   "metadata": {},
   "outputs": [
    {
     "name": "stderr",
     "output_type": "stream",
     "text": [
      "/opt/conda/envs/xai/lib/python3.8/site-packages/ale_py/roms/__init__.py:94: DeprecationWarning: Automatic importing of atari-py roms won't be supported in future releases of ale-py. Please migrate over to using `ale-import-roms` OR an ALE-supported ROM package. To make this warning disappear you can run `ale-import-roms --import-from-pkg atari_py.atari_roms`.For more information see: https://github.com/mgbellemare/Arcade-Learning-Environment#rom-management\n",
      "  _RESOLVED_ROMS = _resolve_roms()\n",
      "A.L.E: Arcade Learning Environment (version +978d2ce)\n",
      "[Powered by Stella]\n"
     ]
    }
   ],
   "source": [
    "import numpy as np\n",
    "import matplotlib.pyplot as plt\n",
    "from torch import nn \n",
    "from torchvision import models\n",
    "import torch \n",
    "import gym\n",
    "from rlxai.agent.actor_critic import A2C\n",
    "env = gym.make(\"Breakout-v0\")"
   ]
  },
  {
   "cell_type": "code",
   "execution_count": 62,
   "metadata": {},
   "outputs": [],
   "source": [
    "\n",
    "def img_crop(img_arr) :\n",
    "    return img_arr[55:-15,15:-15,:]\n",
    "def rgb2gray(rgb):\n",
    "    return np.dot(rgb[...,:3], [0.299, 0.587, 0.144])[:,:,np.newaxis]\n",
    "def totensor(img_arr) :\n",
    "    return torch.FloatTensor(img_arr.transpose((2, 0, 1))).unsqueeze(dim=0)\n"
   ]
  },
  {
   "cell_type": "code",
   "execution_count": 63,
   "metadata": {},
   "outputs": [],
   "source": [
    "actor = models.resnet18(pretrained=True)\n",
    "actor.fc = nn.Linear(512, env.action_space.n)\n",
    "\n",
    "critic = models.resnet18(pretrained=True)\n",
    "critic.fc = nn.Linear(512, 1)"
   ]
  },
  {
   "cell_type": "code",
   "execution_count": 64,
   "metadata": {},
   "outputs": [],
   "source": [
    "def data_transform(x) :\n",
    "    x = img_crop(x)\n",
    "    x = totensor(x)\n",
    "    return x"
   ]
  },
  {
   "cell_type": "code",
   "execution_count": 65,
   "metadata": {},
   "outputs": [],
   "source": [
    "A2C_MODEL = A2C(actor=actor,critic=critic,lr=1e-3)"
   ]
  },
  {
   "cell_type": "code",
   "execution_count": 68,
   "metadata": {},
   "outputs": [
    {
     "name": "stdout",
     "output_type": "stream",
     "text": [
      "1000 False 0.0\n",
      "1000\n",
      "tensor(-4.3381e-07, grad_fn=<MeanBackward0>) tensor(0.0007, grad_fn=<MeanBackward0>)\n"
     ]
    }
   ],
   "source": [
    "############################################################\n",
    "rewards = []\n",
    "is_terminals = []\n",
    "values = []\n",
    "logprobs = []\n",
    "############################################################\n",
    "max_steps_per_episode = 100_000\n",
    "batch_size = 1000\n",
    "s = env.reset()\n",
    "A2C_MODEL.load_model(\"./\")\n",
    "for t in range(1, max_steps_per_episode):\n",
    "    s_tensor = data_transform(s)\n",
    "    act , v , logprob = A2C_MODEL.choose_action(s_tensor,inference=False)\n",
    "    s,r,done,info = env.step(int(act))\n",
    "    rewards.append(r)\n",
    "    is_terminals.append(done)\n",
    "    values.append(v)\n",
    "    logprobs.append(logprob)\n",
    "    if batch_size ==len(rewards) | done :\n",
    "        print(len(rewards) , done , r)\n",
    "        s_tensor = data_transform(s)\n",
    "        _ , v , _ = A2C_MODEL.choose_action(s_tensor,inference=False)\n",
    "        actor_loss,  critic_loss = A2C_MODEL.get_loss(rewards , is_terminals,values,logprobs,float(v) )\n",
    "        print(actor_loss , critic_loss)\n",
    "        A2C_MODEL.train(actor_loss=actor_loss,critic_loss=critic_loss)\n",
    "        A2C_MODEL.save_model(\"./\")\n",
    "        ############################################################\n",
    "        rewards = []\n",
    "        is_terminals = []\n",
    "        values = []\n",
    "        logprobs = []\n",
    "        ############################################################\n",
    "\n"
   ]
  },
  {
   "cell_type": "code",
   "execution_count": null,
   "metadata": {},
   "outputs": [],
   "source": []
  }
 ],
 "metadata": {
  "interpreter": {
   "hash": "08b5628e8264ddadf1fd49162a2868f0bb7d568edd3608cf47f4a22ec573470d"
  },
  "kernelspec": {
   "display_name": "Python 3.8.12 64-bit ('snkr': conda)",
   "language": "python",
   "name": "python3"
  },
  "language_info": {
   "codemirror_mode": {
    "name": "ipython",
    "version": 3
   },
   "file_extension": ".py",
   "mimetype": "text/x-python",
   "name": "python",
   "nbconvert_exporter": "python",
   "pygments_lexer": "ipython3",
   "version": "3.8.12"
  },
  "orig_nbformat": 4
 },
 "nbformat": 4,
 "nbformat_minor": 2
}
