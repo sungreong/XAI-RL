{
 "cells": [
  {
   "cell_type": "code",
   "execution_count": 1,
   "metadata": {},
   "outputs": [],
   "source": [
    "%load_ext autoreload\n",
    "%autoreload 2"
   ]
  },
  {
   "cell_type": "code",
   "execution_count": 38,
   "metadata": {},
   "outputs": [],
   "source": [
    "import numpy as np\n",
    "import matplotlib.pyplot as plt\n",
    "from torch import nn \n",
    "from torchvision import models\n",
    "import torch \n",
    "import gym , sys\n",
    "import cv2\n",
    "from tqdm import tqdm\n",
    "\n",
    "from rlxai import A2C\n",
    "env = gym.make(\"Breakout-v0\")"
   ]
  },
  {
   "cell_type": "code",
   "execution_count": 25,
   "metadata": {},
   "outputs": [],
   "source": [
    "\n",
    "def img_crop(img_arr) :\n",
    "    return img_arr[55:-15,15:-15,:]\n",
    "def rgb2gray(rgb):\n",
    "    image_data = cv2.cvtColor(cv2.resize(rgb, (84, 84)), cv2.COLOR_BGR2GRAY)\n",
    "    image_data[image_data > 0] = 255\n",
    "    image_data = np.reshape(image_data,(84, 84, 1))\n",
    "    return image_data\n",
    "def totensor(img_arr) :\n",
    "    return torch.FloatTensor(img_arr.transpose((2, 0, 1))).unsqueeze(dim=0)\n"
   ]
  },
  {
   "cell_type": "code",
   "execution_count": 26,
   "metadata": {},
   "outputs": [],
   "source": [
    "def data_transform(x) :\n",
    "    x = img_crop(x)\n",
    "    x = rgb2gray(x)\n",
    "    x = totensor(x)\n",
    "    return x"
   ]
  },
  {
   "cell_type": "code",
   "execution_count": 27,
   "metadata": {},
   "outputs": [
    {
     "data": {
      "text/plain": [
       "torch.Size([1, 1, 84, 84])"
      ]
     },
     "execution_count": 27,
     "metadata": {},
     "output_type": "execute_result"
    }
   ],
   "source": [
    "s = env.reset()\n",
    "ss = data_transform(s)\n",
    "ss.shape"
   ]
  },
  {
   "cell_type": "code",
   "execution_count": 33,
   "metadata": {},
   "outputs": [],
   "source": [
    "actor = models.resnet18(pretrained=True)\n",
    "actor.conv1 =nn.Conv2d(1,64, kernel_size=(7, 7), stride=(2, 2), padding=(3, 3), bias=False)\n",
    "actor.fc = nn.Linear(512, env.action_space.n)\n",
    "\n",
    "critic = models.resnet18(pretrained=True)\n",
    "critic.conv1 =nn.Conv2d(1,64, kernel_size=(7, 7), stride=(2, 2), padding=(3, 3), bias=False)\n",
    "critic.fc = nn.Linear(512, 1)"
   ]
  },
  {
   "cell_type": "code",
   "execution_count": 34,
   "metadata": {},
   "outputs": [],
   "source": [
    "def data_transform(x) :\n",
    "    x = img_crop(x)\n",
    "    x = rgb2gray(x)\n",
    "    x = totensor(x)\n",
    "    return x"
   ]
  },
  {
   "cell_type": "code",
   "execution_count": 35,
   "metadata": {},
   "outputs": [],
   "source": [
    "A2C_MODEL = A2C(actor=actor,critic=critic,lr=1e-3,gamma=0.99,lam=0.9)"
   ]
  },
  {
   "cell_type": "code",
   "execution_count": 52,
   "metadata": {},
   "outputs": [],
   "source": [
    "from IPython.display import clear_output\n",
    "from array2gif import  write_gif "
   ]
  },
  {
   "cell_type": "code",
   "execution_count": 76,
   "metadata": {},
   "outputs": [],
   "source": [
    "s = env.reset()\n",
    "img_collection = [s.transpose((2, 0, 1))]\n",
    "for t in range(10000) :\n",
    "    s,r,done,info = env.step(env.action_space.sample())\n",
    "    if done :\n",
    "        s = env.reset()\n",
    "    if t % 10 == 0 :\n",
    "        img_collection.append(s.transpose((2, 0, 1)))\n",
    "write_gif(img_collection,\"test.gif\")\n"
   ]
  },
  {
   "cell_type": "code",
   "execution_count": 83,
   "metadata": {},
   "outputs": [
    {
     "name": "stdout",
     "output_type": "stream",
     "text": [
      "  0%|          | 498/100000 [00:50<2:36:37, 10.59it/s]\n",
      "  1%|          | 998/100000 [02:47<2:26:16, 11.28it/s]\n",
      "  1%|▏         | 1499/100000 [04:48<2:29:15, 11.00it/s]\n",
      "  2%|▏         | 1999/100000 [06:47<2:26:23, 11.16it/s]\n",
      "  2%|▏         | 1999/100000 [07:06<2:26:23, 11.16it/s]"
     ]
    }
   ],
   "source": [
    "############################################################\n",
    "rewards      = []  #\n",
    "is_terminals = []  #\n",
    "values       = []  #\n",
    "logprobs     = []  #\n",
    "############################################################\n",
    "max_steps_per_episode = 100_000\n",
    "batch_size = 500\n",
    "s = env.reset()\n",
    "A2C_MODEL.load_model(\"./\")\n",
    "img_collection = []\n",
    "with tqdm(total=max_steps_per_episode, file=sys.stdout) as pbar:\n",
    "    for t in range(1, max_steps_per_episode):\n",
    "        s_tensor = data_transform(s)\n",
    "        act , v , logprob = A2C_MODEL.choose_action(s_tensor,inference=False)\n",
    "        s,r,done,info = env.step(int(act))\n",
    "        rewards.append(r)\n",
    "        is_terminals.append(done)\n",
    "        values.append(v)\n",
    "        logprobs.append(logprob)\n",
    "        if (batch_size ==len(rewards)) | done :\n",
    "            s_tensor = data_transform(s)\n",
    "            _ , v , _ = A2C_MODEL.choose_action(s_tensor,inference=False)\n",
    "            actor_loss,  critic_loss = A2C_MODEL.get_loss(rewards , is_terminals,values,logprobs,float(v) )\n",
    "            print()\n",
    "            A2C_MODEL.train(actor_loss=actor_loss,critic_loss=critic_loss)\n",
    "            A2C_MODEL.save_model(\"./\")\n",
    "            ############################################################\n",
    "            rewards      = []  #\n",
    "            is_terminals = []  #\n",
    "            values       = []  #\n",
    "            logprobs     = []  #\n",
    "            ############################################################\n",
    "            a_l , c_l =actor_loss.detach().numpy() , critic_loss.detach().numpy()\n",
    "            write_gif(img_collection[::10],f\"./gif/eval_{t:05d}.gif\")\n",
    "            del img_collection\n",
    "            img_collection = []\n",
    "            if done :\n",
    "                print(\"restart...\")\n",
    "                s = env.reset()\n",
    "                img_collection.append(s.transpose((2, 0, 1)))\n",
    "        else :\n",
    "            img_collection.append(s.transpose((2, 0, 1)))\n",
    "            a_l , c_l = 0,0\n",
    "        #pbar.set_description(f\"{done} {r} {a_l:3f}, {c_l:3f}\")\n",
    "        pbar.update(1)"
   ]
  },
  {
   "cell_type": "code",
   "execution_count": null,
   "metadata": {},
   "outputs": [],
   "source": []
  }
 ],
 "metadata": {
  "interpreter": {
   "hash": "08b5628e8264ddadf1fd49162a2868f0bb7d568edd3608cf47f4a22ec573470d"
  },
  "kernelspec": {
   "display_name": "Python 3.8.12 64-bit ('snkr': conda)",
   "language": "python",
   "name": "python3"
  },
  "language_info": {
   "codemirror_mode": {
    "name": "ipython",
    "version": 3
   },
   "file_extension": ".py",
   "mimetype": "text/x-python",
   "name": "python",
   "nbconvert_exporter": "python",
   "pygments_lexer": "ipython3",
   "version": "3.8.12"
  },
  "orig_nbformat": 4
 },
 "nbformat": 4,
 "nbformat_minor": 2
}
